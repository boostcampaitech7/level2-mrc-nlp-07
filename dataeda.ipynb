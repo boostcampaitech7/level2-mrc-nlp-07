{
 "cells": [
  {
   "cell_type": "code",
   "execution_count": 2,
   "metadata": {},
   "outputs": [
    {
     "name": "stderr",
     "output_type": "stream",
     "text": [
      "c:\\Users\\승범 pc\\Desktop\\study\\deeplearning\\naver_boot\\level2-mrc-nlp-07\\level2\\Lib\\site-packages\\tqdm\\auto.py:21: TqdmWarning: IProgress not found. Please update jupyter and ipywidgets. See https://ipywidgets.readthedocs.io/en/stable/user_install.html\n",
      "  from .autonotebook import tqdm as notebook_tqdm\n"
     ]
    },
    {
     "name": "stdout",
     "output_type": "stream",
     "text": [
      "DatasetDict({\n",
      "    train: Dataset({\n",
      "        features: ['title', 'context', 'question', 'id', 'answers', 'document_id', '__index_level_0__'],\n",
      "        num_rows: 3952\n",
      "    })\n",
      "    validation: Dataset({\n",
      "        features: ['title', 'context', 'question', 'id', 'answers', 'document_id', '__index_level_0__'],\n",
      "        num_rows: 240\n",
      "    })\n",
      "})\n",
      "**************************************** query dataset ****************************************\n",
      "Dataset({\n",
      "    features: ['title', 'context', 'question', 'id', 'answers', 'document_id', '__index_level_0__'],\n",
      "    num_rows: 4192\n",
      "})\n"
     ]
    }
   ],
   "source": [
    "from datasets import  concatenate_datasets, load_from_disk\n",
    "org_dataset = load_from_disk('./data/train_dataset')\n",
    "print(org_dataset)\n",
    "full_ds = concatenate_datasets(\n",
    "        [\n",
    "            org_dataset[\"train\"].flatten_indices(),\n",
    "            org_dataset[\"validation\"].flatten_indices(),\n",
    "        ]\n",
    "    )  # train dev 를 합친 4192 개 질문에 대해 모두 테스트\n",
    "print(\"*\" * 40, \"query dataset\", \"*\" * 40)\n",
    "print(full_ds)"
   ]
  },
  {
   "cell_type": "code",
   "execution_count": 3,
   "metadata": {},
   "outputs": [
    {
     "data": {
      "text/plain": [
       "({'answer_start': [235], 'text': ['하원']},\n",
       " '하원이 세금과 경제에 대한 권한, 대통령을 포함한 대다수의 공무원을 파면할 권한을 갖고 있는 국민을 대표하는 기관인 반면 상원은 미국의 주를 대표한다. 즉 캘리포니아주, 일리노이주 같이 주 정부와 주 의회를 대표하는 기관이다. 그로 인하여 군대의 파병, 관료의 임명에 대한 동의, 외국 조약에 대한 승인 등 신속을 요하는 권한은 모두 상원에게만 있다. 그리고 하원에 대한 견제 역할(하원의 법안을 거부할 권한 등)을 담당한다. 2년의 임기로 인하여 급진적일 수밖에 없는 하원은 지나치게 급진적인 법안을 만들기 쉽다. 대표적인 예로 건강보험 개혁 당시 하원이 미국 연방 행정부에게 퍼블릭 옵션(공공건강보험기관)의 조항이 있는 반면 상원의 경우 하원안이 지나치게 세금이 많이 든다는 이유로 퍼블릭 옵션 조항을 제외하고 비영리건강보험기관이나 보험회사가 담당하도록 한 것이다. 이 경우처럼 상원은 하원이나 내각책임제가 빠지기 쉬운 국가들의 국회처럼 걸핏하면 발생하는 의회의 비정상적인 사태를 방지하는 기관이다. 상원은 급박한 처리사항의 경우가 아니면 법안을 먼저 내는 경우가 드물고 하원이 만든 법안을 수정하여 다시 하원에 되돌려보낸다. 이러한 방식으로 단원제가 빠지기 쉬운 함정을 미리 방지하는 것이다.날짜=2017-02-05')"
      ]
     },
     "execution_count": 3,
     "metadata": {},
     "output_type": "execute_result"
    }
   ],
   "source": [
    "full_ds['answers'][0], full_ds['context'][0][235:]"
   ]
  },
  {
   "cell_type": "code",
   "execution_count": 5,
   "metadata": {},
   "outputs": [
    {
     "name": "stdout",
     "output_type": "stream",
     "text": [
      "총 샘플 수: 4192\n",
      "정확한 위치에 있는 답변 수: 4192\n",
      "부정확한 위치에 있는 답변 수: 0\n",
      "정확도: 100.00%\n"
     ]
    }
   ],
   "source": [
    "correct_count = 0\n",
    "incorrect_count = 0\n",
    "\n",
    "for i in range(len(full_ds)):\n",
    "    sample = full_ds[i]\n",
    "    context = sample['context']\n",
    "    answers = sample['answers']\n",
    "    \n",
    "    for answer in answers['text']:\n",
    "        start = answers['answer_start'][0]\n",
    "        extracted_answer = context[start:start + len(answer)]\n",
    "        \n",
    "        if extracted_answer == answer:\n",
    "            correct_count += 1\n",
    "        else:\n",
    "            incorrect_count += 1\n",
    "\n",
    "total = correct_count + incorrect_count\n",
    "accuracy = (correct_count / total) * 100 if total > 0 else 0\n",
    "\n",
    "print(f\"총 샘플 수: {total}\")\n",
    "print(f\"정확한 위치에 있는 답변 수: {correct_count}\")\n",
    "print(f\"부정확한 위치에 있는 답변 수: {incorrect_count}\")\n",
    "print(f\"정확도: {accuracy:.2f}%\")"
   ]
  },
  {
   "cell_type": "code",
   "execution_count": 12,
   "metadata": {},
   "outputs": [
    {
     "name": "stdout",
     "output_type": "stream",
     "text": [
      "\n",
      "샘플 8/4192\n",
      "제목: 제50노섬브리안 보병사단\n",
      "질문: 참호 속에 무기와 장비를 버리고 도주한 집단은?\n",
      "내용:\n",
      "이집트로 이어지는 해안 도로는 1개의 사단만이 방어할 수 있었으며 엘 아뎀 요새와 남아있는 영국 기갑군\n",
      "잔병들에 의해서만 출입이 가능했다. 이러한 임무는 남아프리카 연방군에게도 할당되었다. 제50사단은 동쪽에서\n",
      "싸우는 대안으로 좌측을 선택하여 독일 기갑 사단의 편제를 통과하거나 이탈리아 기갑사단 주위로 긴 방어선을\n",
      "형성하는 것을 목표로 했다. 그들 모두를 파괴하는 것은 거의 불가능했는데, 그 이유는 사단은 혼성 부대로\n",
      "이루어져 있었기 때문이다. 제5이스트요크셔와 제9더럼경보병부대가 형성한 교두보를 담당하여 이탈리아 전선으로\n",
      "진입하는 것이 그들의 임무였다. 혼란과 혼돈 속에서 혼성 부대는 독일군이 장악한 동쪽보다 남쪽으로 이동하여\n",
      "이집트 국경인 마델레나 요새로 이동했다. text=교두보에 있었던 적은 독일군 포병이 지원하는 이탈리아\n",
      "군이었다. 그들은 기습으로 매우 놀란 것 같았다. 그들이 전 사단이 그들의 전선을 곧바로 통과하는 것을\n",
      "깨달았는데 밤이 되기 전이었다. 몇몇 차량은 지뢰로 파괴되고, 다른 차량들은 불에 탔지만, 우리의 모든\n",
      "사단은 적은 사상자를 냈고, 공격대대도 그들의 임무를 성공적으로 마쳤다. 보병은 마차에 탔고, 이탈리아군은\n",
      "참호에 그들의 무기와 장비를 남겨둔 채 도망갔다. 더럼경보병여단의 제9대대와 제6대대의 소규모 부대는\n",
      "제69여단 요새 뒤에서 주둔한 이후 해안도로를 따라 후퇴하면서 이탈리아 군인들이 돌파를 알리는 것을 보았다.\n",
      "독일군 포병 및 보병과 남아프리카 공화국 보호부대의 실수로 공격을 받기는 했으나 혼성 부대는 독일군을\n",
      "돌파하며 포로까지 잡았다. 6월 17일에서 18일까지 이들은 비르 엘 타라타에서 재집결했다.\n",
      "답변: 이탈리아군\n",
      "답변 위치: 이탈리아군은 참호에 그들의 무기와 장\n",
      "----------------------------------------------------------------------------------------------------\n",
      "\n",
      "샘플 9/4192\n",
      "제목: 오싱\n",
      "질문: 제2차 세계 대전에 참전하여 사망한 자식은?\n",
      "내용:\n",
      "하지만 슬픈 일들이 그녀의 행복을 질시하고 있었다.\\n평생 고생만 한 어머니를 백혈병으로 잃고, 얼마 후\n",
      "불경기로 가가야가 망한후 매춘부로 전락, 고생하다가 병으로 죽은 가요의 아들 노소미를 입양했다. 그 후\n",
      "농민운동을 하던 고우타가 가요의 묘 앞에서 체포되어 모진 고문을 당하고 몇 년 후 사상전향을 하고\n",
      "출옥하였다. 더구나 제2차 세계 대전으로 큰아들 유가 필리핀에서 전사한 사건, 이에 상처받은 수양딸\n",
      "하스코(田倉初子)가 가출하는 일들도 있었다. 하지만, 가장 큰 슬픔은 사람을 죽이는 전쟁에 애국주의에\n",
      "근거하여, 가담한 잘못에 죄책감을 느낀 남편의 자살이었다. 그녀는 꿋꿋히 슬픔을 참으면서 작은 아들 히토시,\n",
      "엄마 오싱의 간곡한 설득으로 집에 돌아온 수양딸 하스코 그리고 딸 데이와 함께 식료품가게를 꾸려나가 여러\n",
      "지점들을 둘 정도가 된다. 죽은 큰 아들 유를 대신해서 장남역할을 성실하게 해오던 히토시(田倉仁)도 부자집딸\n",
      "미치코와 결혼한다. 오싱은 결혼할 남자의 누나인 하쓰코가 자신을 대접하느라 바쁜데도 전혀 돕지 않을 만큼\n",
      "속없고 예의도 없는 철부지 아가씨 미치코가 마음에 전혀 들지 않았지만, 아들이 원하니까 결혼을 허락한다.\n",
      "이때가 패전으로 잿더미가 된 일본경제가 성장한 1950년대였다. 하지만 오싱의 우려대로 미치코는 가출까지 할\n",
      "정도로 시어머니의 속을 썩인다. 한가지 다행이라면 아들 노소미와 딸 하스코가 흥미와 적성에 맞는 도공과\n",
      "수예품가게주인의 길을 걸으면서 스스로 삶을 개척하고 있다는 사실이었다.\n",
      "답변: 큰아들 유\n",
      "답변 위치: 큰아들 유가 필리핀에서 전사한 사건,\n",
      "----------------------------------------------------------------------------------------------------\n",
      "검토를 중지합니다.\n",
      "Fin\n"
     ]
    }
   ],
   "source": [
    "import textwrap\n",
    "from IPython.display import clear_output\n",
    "\n",
    "def review_dataset(dataset, batch_size=2):\n",
    "    total_samples = len(dataset)\n",
    "    current_index = 7\n",
    "\n",
    "    while current_index < total_samples:\n",
    "        clear_output(wait=True)\n",
    "        for i in range(current_index, min(current_index + batch_size, total_samples)):\n",
    "            sample = dataset[i]\n",
    "            start = sample['answers']['answer_start'][0]\n",
    "            print(f\"\\n샘플 {i+1}/{total_samples}\")\n",
    "            print(f\"제목: {sample['title']}\")\n",
    "            print(f\"질문: {sample['question']}\")\n",
    "            print(\"내용:\")\n",
    "            print(textwrap.fill(sample['context'], width=60))\n",
    "            print(f\"답변: {sample['answers']['text'][0]}\")\n",
    "\n",
    "            answer_context = sample['context'][start:start+20]\n",
    "            print(f\"답변 위치: {answer_context}\")\n",
    "            \n",
    "            print(\"-\" * 100)\n",
    "\n",
    "        user_input = input(\"계속하려면 'g'를, 중지하려면 's'를 입력하세요: \").lower()\n",
    "        if user_input == 's':\n",
    "            print(\"검토를 중지합니다.\")\n",
    "            break\n",
    "        elif user_input != 'g':\n",
    "            print(\"잘못된 입력입니다\")\n",
    "            continue\n",
    "\n",
    "        current_index += batch_size\n",
    "\n",
    "    print(\"Fin\")\n",
    "\n",
    "# 데이터셋을 불러온 후 함수 호출\n",
    "review_dataset(full_ds)"
   ]
  },
  {
   "cell_type": "code",
   "execution_count": null,
   "metadata": {},
   "outputs": [],
   "source": []
  },
  {
   "cell_type": "code",
   "execution_count": null,
   "metadata": {},
   "outputs": [],
   "source": []
  }
 ],
 "metadata": {
  "kernelspec": {
   "display_name": "level2",
   "language": "python",
   "name": "python3"
  },
  "language_info": {
   "codemirror_mode": {
    "name": "ipython",
    "version": 3
   },
   "file_extension": ".py",
   "mimetype": "text/x-python",
   "name": "python",
   "nbconvert_exporter": "python",
   "pygments_lexer": "ipython3",
   "version": "3.12.1"
  }
 },
 "nbformat": 4,
 "nbformat_minor": 2
}
