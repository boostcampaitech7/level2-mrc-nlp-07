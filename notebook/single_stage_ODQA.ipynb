{
 "cells": [
  {
   "cell_type": "markdown",
   "metadata": {},
   "source": [
    "- notebook/requirements.txt: EDA를 위한 종속성 관리\n",
    "- autoEDA: llama2로 특수 문자 여부를 판단한 내용"
   ]
  },
  {
   "cell_type": "code",
   "execution_count": 1,
   "metadata": {},
   "outputs": [],
   "source": [
    "import pandas as pd\n",
    "import pyarrow as pa\n",
    "import numpy as np\n",
    "import string\n",
    "from collections import Counter\n",
    "from langchain_ollama.llms import OllamaLLM\n",
    "from langchain.prompts import PromptTemplate"
   ]
  },
  {
   "cell_type": "code",
   "execution_count": null,
   "metadata": {},
   "outputs": [],
   "source": [
    "file_path = '../data/train_dataset/train/dataset.arrow'\n",
    "with pa.memory_map(file_path, 'r') as source:\n",
    "    table = pa.ipc.open_stream(source).read_all()\n",
    "df: pd.DataFrame = table.to_pandas()\n",
    "df.head()"
   ]
  },
  {
   "cell_type": "markdown",
   "metadata": {},
   "source": [
    "\\* 로컬 Ollama 서버로 llama2 활용하는 방법 (macOS 기준)\n",
    "1. Ollama 설치\n",
    "    ```\n",
    "    brew install ollama\n",
    "    ```\n",
    "2. Ollama 서버 실행\n",
    "    ```\n",
    "    ollama run llama2\n",
    "    ```\n",
    "3. Ollama 서버 중단\n",
    "    ```\n",
    "    pkill ollama\n",
    "    ```"
   ]
  },
  {
   "cell_type": "code",
   "execution_count": 3,
   "metadata": {},
   "outputs": [],
   "source": [
    "llm = OllamaLLM(model=\"llama2\")"
   ]
  },
  {
   "cell_type": "code",
   "execution_count": 4,
   "metadata": {},
   "outputs": [],
   "source": [
    "prompt_template = \"\"\"\n",
    "다음 문서를 분석하여 주어진 질문에 **오직 한국어로**, 가능한 한 짧고 간결한 **단일 구절**로 답변해 주세요. 문장은 사용하지 마세요.\n",
    "\n",
    "### 문서:\n",
    "{context}\n",
    "\n",
    "### 질문:\n",
    "{question}\n",
    "\n",
    "답변은 단일 구절이어야 하며, 문장이 되어서는 안 됩니다. 오직 한국어로만 작성해 주세요.\n",
    "\"\"\"\n",
    "\n",
    "# 프롬프트 템플릿 생성\n",
    "prompt = PromptTemplate(\n",
    "    template=prompt_template,\n",
    "    input_variables=[\"context\", \"question\"]\n",
    ")"
   ]
  },
  {
   "cell_type": "code",
   "execution_count": 10,
   "metadata": {},
   "outputs": [],
   "source": [
    "def normalize_korean_answer(s):\n",
    "    def remove_punctuation(text):\n",
    "        exclude = set(string.punctuation + \"·、，．？！＂＇〃《》「」『』〔〕“”‘’〈〉【】()[]{}\")\n",
    "        return \"\".join(ch for ch in text if ch not in exclude)\n",
    "\n",
    "    def white_space_fix(text):\n",
    "        return \" \".join(text.split())\n",
    "\n",
    "    def lower(text):\n",
    "        return text.lower()\n",
    "\n",
    "    return white_space_fix(remove_punctuation(lower(s)))\n",
    "\n",
    "def exact_match(prediction, ground_truth):\n",
    "    return normalize_korean_answer(prediction) == normalize_korean_answer(ground_truth)\n",
    "\n",
    "# F1 Score calculation\n",
    "def f1_score(prediction, ground_truth):\n",
    "    prediction_tokens = normalize_korean_answer(prediction).split()\n",
    "    ground_truth_tokens = normalize_korean_answer(ground_truth).split()\n",
    "    common = Counter(prediction_tokens) & Counter(ground_truth_tokens)\n",
    "    num_same = sum(common.values())\n",
    "\n",
    "    if num_same == 0:\n",
    "        return 0.0\n",
    "\n",
    "    precision = num_same / len(prediction_tokens)\n",
    "    recall = num_same / len(ground_truth_tokens)\n",
    "    f1 = 2 * (precision * recall) / (precision + recall)\n",
    "    return f1"
   ]
  },
  {
   "cell_type": "code",
   "execution_count": null,
   "metadata": {},
   "outputs": [],
   "source": [
    "def recursive_answer_generation(context, question, current_answer=\"\", depth=0, max_depth=5):\n",
    "    if depth >= max_depth:\n",
    "        return current_answer  # 최대 재귀 깊이에 도달하면 종료\n",
    "\n",
    "    try:\n",
    "        # 새로운 답변 생성\n",
    "        result = llm.generate(\n",
    "            prompts=[prompt.format(context=context, question=question)]\n",
    "        )\n",
    "        temp_answer = result.generations[0][0].text.strip()\n",
    "\n",
    "        # 새로 생성된 답변이 이전 답변과 같으면 재귀 종료\n",
    "        if temp_answer == current_answer:\n",
    "            return temp_answer\n",
    "        \n",
    "        # 새로 생성된 답변을 사용하여 다시 재귀 호출\n",
    "        return recursive_answer_generation(temp_answer, question, current_answer=temp_answer, depth=depth + 1)\n",
    "    \n",
    "    except Exception as e:\n",
    "        print(f\"Error during recursion at depth {depth}: {e}\")\n",
    "        return current_answer  # 오류 발생 시 현재 답변 반환\n",
    "\n",
    "exact_matches = []\n",
    "f1_scores = []\n",
    "\n",
    "for idx in range(len(df)):\n",
    "    context = df.iloc[idx]['context']\n",
    "    question = df.iloc[idx]['question']\n",
    "    answer = df.iloc[idx]['answers']['text'][0]  # 정답 추출\n",
    "\n",
    "    predicted_answer = recursive_answer_generation(context, question)        \n",
    "\n",
    "    # 정확도 평가 (Exact Match와 F1 Score)\n",
    "    em = exact_match(predicted_answer, answer)\n",
    "    f1 = f1_score(predicted_answer, answer)\n",
    "\n",
    "    # 메트릭 저장\n",
    "    exact_matches.append(em)\n",
    "    f1_scores.append(f1)\n",
    "    \n",
    "    # 출력\n",
    "    print(f\"{idx}.\")\n",
    "    print(f\"Question: {question}\")\n",
    "    print(f\"Predicted Answer: {predicted_answer}\")\n",
    "    print(f\"True Answer: {answer}\")\n",
    "    print(f\"Exact Match: {em}, F1 score: {f1}\")\n",
    "    print(\"-\" * 40)\n",
    "\n",
    "# 전체 평균 메트릭 계산\n",
    "avg_em = np.mean(exact_matches)\n",
    "avg_f1 = np.mean(f1_scores)\n",
    "\n",
    "print(f\"Average Exact Match: {avg_em:.4f}\")\n",
    "print(f\"Average F1 Score: {avg_f1:.4f}\")"
   ]
  }
 ],
 "metadata": {
  "kernelspec": {
   "display_name": "EDA",
   "language": "python",
   "name": "python3"
  },
  "language_info": {
   "codemirror_mode": {
    "name": "ipython",
    "version": 3
   },
   "file_extension": ".py",
   "mimetype": "text/x-python",
   "name": "python",
   "nbconvert_exporter": "python",
   "pygments_lexer": "ipython3",
   "version": "3.11.0"
  }
 },
 "nbformat": 4,
 "nbformat_minor": 2
}
